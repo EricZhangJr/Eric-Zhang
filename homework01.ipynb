{
 "cells": [
  {
   "cell_type": "markdown",
   "metadata": {
    "id": "NH3ciI7BAHTK"
   },
   "source": [
    "# Homework 01"
   ]
  },
  {
   "cell_type": "markdown",
   "metadata": {
    "id": "KE4iSkX-AHTP"
   },
   "source": [
    "In this exercise, you will warm up / refresh your Python skills by analyzing some real data inside of a Jupyter notebook environment. You should write whatever **Python** code you like to solve these problems. You can search on the web for documentation and techniques to help you solve the problem. See especially the official [Python tutorial](https://docs.python.org/3/tutorial/) and [documentation](https://docs.python.org/3/).\n",
    "\n",
    "For grading, we will be using an autograder in [Gradescope](http://gradescope.com/). It grades based on values in specific variables or function names. Make sure to read the problem carefully to know what names to use so the autograder can correctly find your answers.\n",
    "\n",
    "When you are ready to check your answer(s), submit your assignment at [Gradescope](http://gradescope.com/)."
   ]
  },
  {
   "cell_type": "markdown",
   "metadata": {
    "id": "FAMWJsE1AHTR"
   },
   "source": [
    "## Part 1: Text\n",
    "The `text.txt` file contains the opening sentences of Charles' Dickens novel *A Tale of Two Cities*. Run the code below. It will read the file, store it in a string variable `text`, and print the first 500 characters."
   ]
  },
  {
   "cell_type": "code",
   "execution_count": 1,
   "metadata": {
    "id": "JprjPXt8AHTS",
    "outputId": "a49bbe7e-8761-4278-cb43-6758ac8c2807"
   },
   "outputs": [
    {
     "name": "stdout",
     "output_type": "stream",
     "text": [
      "it was the best of times, it was the worst of times, it was the age of wisdom, it was the age of foolishness, it was the epoch of belief, it was the epoch of incredulity, it was the season of light, it was the season of darkness, it was the spring of hope, it was the winter of despair, we had everything before us, we had nothing before us, we were all going direct to heaven, we were all going direct the other way- in short, the period was so far like the present period, that some of its noisiest ...\n"
     ]
    }
   ],
   "source": [
    "f = open('text.txt')\n",
    "text = f.read()\n",
    "f.close()\n",
    "\n",
    "print(text[:500], '...')"
   ]
  },
  {
   "cell_type": "markdown",
   "metadata": {
    "deletable": false,
    "editable": false,
    "id": "4Oej9d20AHTV"
   },
   "source": [
    "### Question 1\n",
    "In the variable `q1_1` put the first sentence of the text. In the variable `q1_2` put the last sentence of the text. You may assume sentences only end with a period (`'.'`).\n",
    "\n",
    "You may find the Python `split` method for strings to be useful: https://docs.python.org/3/library/stdtypes.html?highlight=split#str.split `sep='.'`.\n",
    "<!--\n",
    "BEGIN QUESTION\n",
    "name: q1\n",
    "manual: false\n",
    "points:\n",
    "    - 0.5\n",
    "    - 0.5\n",
    "    - 0.5\n",
    "    - 0.5\n",
    "    - 1\n",
    "    - 1\n",
    "-->"
   ]
  },
  {
   "cell_type": "code",
   "execution_count": 2,
   "metadata": {
    "id": "I_MRb-I3AHTV",
    "outputId": "0676495c-0ded-43d1-cf60-9576bd1b5f91",
    "scrolled": true
   },
   "outputs": [
    {
     "name": "stdout",
     "output_type": "stream",
     "text": [
      "it was the best of times, it was the worst of times, it was the age of wisdom, it was the age of foolishness, it was the epoch of belief, it was the epoch of incredulity, it was the season of light, it was the season of darkness, it was the spring of hope, it was the winter of despair, we had everything before us, we had nothing before us, we were all going direct to heaven, we were all going direct the other way- in short, the period was so far like the present period, that some of its noisiest authorities insisted on its being received, for good or for evil, in the superlative degree of comparison only\n",
      " thus did the year one thousand seven hundred and seventy-five conduct their greatnesses, and myriads of small creatures-the creatures of this chronicle among the rest-along the roads that lay before them\n"
     ]
    }
   ],
   "source": [
    "# Code for question 1\n",
    "q1_1 = ...\n",
    "q1_2 = ...\n",
    "q1_1 = text.split('.')[0]\n",
    "q1_2 = text.split('.')[-2]\n",
    "print(q1_1)\n",
    "print(q1_2)"
   ]
  },
  {
   "cell_type": "markdown",
   "metadata": {
    "deletable": false,
    "editable": false
   },
   "source": [
    "### Question 2\n",
    "In the variable `q2` place the total number of vowels (`a`, `e`, `i`, `o`, `u`) that appear in the text.\n",
    "<!--\n",
    "BEGIN QUESTION\n",
    "name: q2\n",
    "manual: false\n",
    "points:\n",
    "    - 2.0\n",
    "    - 2.0\n",
    "-->"
   ]
  },
  {
   "cell_type": "code",
   "execution_count": 3,
   "metadata": {},
   "outputs": [
    {
     "name": "stdout",
     "output_type": "stream",
     "text": [
      "1735\n"
     ]
    }
   ],
   "source": [
    "# Code for question 2\n",
    "q2 = ...\n",
    "q2 = 0\n",
    "length = len(text)\n",
    "for i in range (0,length):\n",
    "    if text[i].lower()=='a' or text[i].lower()=='e' or text[i].lower()=='i' or text[i].lower()=='o' or text[i].lower()=='u':\n",
    "        q2+=1\n",
    "print(q2)"
   ]
  },
  {
   "cell_type": "markdown",
   "metadata": {
    "deletable": false,
    "editable": false
   },
   "source": [
    "### Question 3\n",
    "A trigram is a string of exactly 3 characters (or a string with length exactly 3), including blank spaces. For example, the first five trigrams in the text are (blank substituted by underline `_` for better demonstration):\n",
    "1. `it_`\n",
    "2. `t_w`\n",
    "3. `_wa`\n",
    "4. `was`\n",
    "5. `as_`\n",
    "\n",
    "In the variable `q3_1` place the most common trigram in the text. In the variable `q3_2` place the number of times the most common trigram shows in the text.\n",
    "<!--\n",
    "BEGIN QUESTION\n",
    "name: q3\n",
    "manual: false\n",
    "points:\n",
    "    - 1.0\n",
    "    - 1.0\n",
    "    - 1.0\n",
    "    - 1.0\n",
    "-->"
   ]
  },
  {
   "cell_type": "code",
   "execution_count": 4,
   "metadata": {},
   "outputs": [
    {
     "name": "stdout",
     "output_type": "stream",
     "text": [
      " th\n",
      "136\n"
     ]
    }
   ],
   "source": [
    "# Code for question 3\n",
    "q3_1 = ...\n",
    "q3_2 = ...\n",
    "length1 = len(text)\n",
    "trilist = []\n",
    "for i in range(0,length1-3):\n",
    "    trilist.append(text[i:i+3])\n",
    "length2 = len(trilist)\n",
    "trilist1 = sorted(trilist)\n",
    "freq=[]\n",
    "for i in range(0,length2):\n",
    "    freq.append(trilist1.count(trilist1[i]))\n",
    "num = max(freq)\n",
    "q3_2 = num\n",
    "for i in range(0,length2):\n",
    "    if freq[i]==num:\n",
    "        q3_1 = trilist1[i]\n",
    "        break\n",
    "print(q3_1)\n",
    "print(q3_2)"
   ]
  },
  {
   "cell_type": "markdown",
   "metadata": {},
   "source": [
    "## Part 2: Rides\n",
    "\n",
    "The [boston.csv](boston.csv) file contains data on weekday Uber rides in the Boston, Massachusetts metropolitan areas from the [Uber Movement](https://movement.uber.com) project. The `sourceid` and `dstid` columns contain codes corresponding to start and end locations of each ride. The `hod` column contains codes corresponding to the hour of the day the ride took place. The `ride time` column contains the length of the ride, in minutes.\n",
    "\n",
    "The code below will open the file and read the data as a list of rows, with each row represented as a string. It then prints the first four rows. Note that the first (index 0) row contains the column headers."
   ]
  },
  {
   "cell_type": "code",
   "execution_count": 5,
   "metadata": {},
   "outputs": [
    {
     "name": "stdout",
     "output_type": "stream",
     "text": [
      "sourceid,dstid,hod,ride time\n",
      "\n",
      "584,33,7,11.866000000000001\n",
      "\n",
      "1013,1116,13,17.799333333333333\n",
      "\n",
      "884,1190,22,19.348833333333335\n",
      "\n"
     ]
    }
   ],
   "source": [
    "f = open('boston.csv')\n",
    "data = f.readlines()\n",
    "f.close()\n",
    "for row in data[:4]:\n",
    "    print(row)"
   ]
  },
  {
   "cell_type": "markdown",
   "metadata": {
    "deletable": false,
    "editable": false
   },
   "source": [
    "### Question 4\n",
    "In the variable `q4` place how many rides are listed in the file.\n",
    "<!--\n",
    "BEGIN QUESTION\n",
    "name: q4\n",
    "manual: false\n",
    "points:\n",
    "    - 1.0\n",
    "    - 1.0\n",
    "-->"
   ]
  },
  {
   "cell_type": "code",
   "execution_count": 6,
   "metadata": {},
   "outputs": [
    {
     "name": "stdout",
     "output_type": "stream",
     "text": [
      "200000\n"
     ]
    }
   ],
   "source": [
    "# Code for question 4\n",
    "q4 = ...\n",
    "q4=0\n",
    "for line in data:\n",
    "    q4+=1\n",
    "q4=q4-1\n",
    "print(q4)"
   ]
  },
  {
   "cell_type": "markdown",
   "metadata": {
    "deletable": false,
    "editable": false
   },
   "source": [
    "### Question 5\n",
    "In the variable `q5` place the length of the longest ride.\n",
    "<!--\n",
    "BEGIN QUESTION\n",
    "name: q5\n",
    "manual: false\n",
    "points:\n",
    "    - 1.0\n",
    "    - 1.0\n",
    "-->"
   ]
  },
  {
   "cell_type": "code",
   "execution_count": 7,
   "metadata": {},
   "outputs": [
    {
     "name": "stdout",
     "output_type": "stream",
     "text": [
      "1471.9861666666666\n"
     ]
    }
   ],
   "source": [
    "# Code for question 5\n",
    "q5 = ...\n",
    "ride = []\n",
    "ride1 = []\n",
    "for line in data:\n",
    "    ride.append((line.split(',')[3][:-1]))\n",
    "length = len(ride)\n",
    "for i in range(0,length-1):\n",
    "    ride1.append(float(ride[i+1]))\n",
    "q5 = max(ride1)\n",
    "print(q5)"
   ]
  },
  {
   "cell_type": "markdown",
   "metadata": {
    "deletable": false,
    "editable": false
   },
   "source": [
    "### Question 6\n",
    "In the variable `q6` place the average length of a ride.\n",
    "<!--\n",
    "BEGIN QUESTION\n",
    "name: q6\n",
    "manual: false\n",
    "points:\n",
    "    - 1.0\n",
    "    - 1.0\n",
    "-->"
   ]
  },
  {
   "cell_type": "code",
   "execution_count": 8,
   "metadata": {},
   "outputs": [
    {
     "name": "stdout",
     "output_type": "stream",
     "text": [
      "16.50247791000012\n"
     ]
    }
   ],
   "source": [
    "# Code for question 6\n",
    "q6 = ...\n",
    "sum = 0\n",
    "length1 = len(ride1)\n",
    "for i in range(0,length1):\n",
    "    sum+=ride1[i]\n",
    "q6 = sum/q4\n",
    "print(q6)"
   ]
  },
  {
   "cell_type": "markdown",
   "metadata": {
    "deletable": false,
    "editable": false
   },
   "source": [
    "### Question 7\n",
    "In the variable `q7` place the percent of rides that are under 10 minutes. The percent should be between 0 and 1.\n",
    "<!--\n",
    "BEGIN QUESTION\n",
    "name: q7\n",
    "manual: false\n",
    "points:\n",
    "    - 2.0\n",
    "    - 2.0\n",
    "-->"
   ]
  },
  {
   "cell_type": "code",
   "execution_count": 9,
   "metadata": {},
   "outputs": [
    {
     "name": "stdout",
     "output_type": "stream",
     "text": [
      "0.22829\n"
     ]
    }
   ],
   "source": [
    "# Code for question 7\n",
    "q7 = ...\n",
    "ride2=list(filter(lambda t:t<10,ride1))\n",
    "length2=len(ride2)\n",
    "q7=length2/length1\n",
    "print(q7)"
   ]
  },
  {
   "cell_type": "markdown",
   "metadata": {
    "deletable": false,
    "editable": false
   },
   "source": [
    "### Question 8\n",
    "For each HOD (hour of day), count how many rides take place during that hour. Put it in a list where index 0 has the number of rides where `hod` was 0, at index 1 where `hod` was 1, etc. until index 23. This means your list will be 24 long. Put this list in a variable called `q8`.\n",
    "<!--\n",
    "BEGIN QUESTION\n",
    "name: q8\n",
    "manual: false\n",
    "points:\n",
    "    - 1.0\n",
    "    - 1.0\n",
    "    - 2.0\n",
    "-->"
   ]
  },
  {
   "cell_type": "code",
   "execution_count": 10,
   "metadata": {},
   "outputs": [
    {
     "name": "stdout",
     "output_type": "stream",
     "text": [
      "[7600, 6568, 5555, 4296, 4371, 5343, 7424, 9173, 9510, 9259, 9053, 8755, 8885, 8813, 9688, 9748, 9930, 9952, 8365, 8926, 9771, 9894, 9863, 9258]\n"
     ]
    }
   ],
   "source": [
    "# Code for question 8\n",
    "q8 = ...\n",
    "hour=[]\n",
    "q8=[]\n",
    "for line in data:\n",
    "    hour.append(line.split(',')[2])\n",
    "for i in range(0,24):\n",
    "    q8.append(hour.count(str(i)))\n",
    "print(q8)"
   ]
  },
  {
   "cell_type": "markdown",
   "metadata": {
    "deletable": false,
    "editable": false
   },
   "source": [
    "### Question 9\n",
    "What are the three most common **start** locations (`sourceid`) for rides in the dataset? You may find the built-in Python `sorted` function helpful; it's usage is described in https://docs.python.org/3/howto/sorting.html.\n",
    "\n",
    "Place your answer in the variable `q9` sorted with the most common location first.\n",
    "<!--\n",
    "BEGIN QUESTION\n",
    "name: q9\n",
    "manual: false\n",
    "points:\n",
    "    - 0.5\n",
    "    - 0.5\n",
    "    - 1.0\n",
    "    - 2.0\n",
    "-->"
   ]
  },
  {
   "cell_type": "code",
   "execution_count": 11,
   "metadata": {},
   "outputs": [
    {
     "name": "stdout",
     "output_type": "stream",
     "text": [
      "[885, 498, 435]\n"
     ]
    }
   ],
   "source": [
    "# Code for question 9\n",
    "import heapq\n",
    "q9 = ...\n",
    "source = []\n",
    "for line in data:\n",
    "    source.append(line.split(',')[0])\n",
    "length1 = len(source)\n",
    "source1 = []\n",
    "for i in range(1,length1):\n",
    "    source1.append(int(source[i]))\n",
    "length2 = len(source1)\n",
    "source2 = sorted(source1)\n",
    "length3 = len(source2)\n",
    "source3 = []\n",
    "for j in range(0,max(source2)):\n",
    "    source3.append(source2.count(j))\n",
    "maxfreq=heapq.nlargest(3,source3)\n",
    "q9=[]\n",
    "for i in range(0,3):\n",
    "    for j in range(0,len(source3)):\n",
    "        if source3[j]==maxfreq[i]:\n",
    "            q9.append(j)\n",
    "print(q9)"
   ]
  },
  {
   "cell_type": "markdown",
   "metadata": {},
   "source": [
    "## Submitting\n",
    "\n",
    "You should make sure any code that you write to answer the questions is included in this notebook. We recommend you go to the Kernel option and choose \\\"Restart & Run All.\\\" Double check that your entire notebook runs correctly and generates the expected output. Finally, make sure to save your work (timestamp at the top tells you the last checkpoint and whether there are unsaved changes). When you finish, submit your assignment at [Gradescope](http://gradescope.com/)."
   ]
  }
 ],
 "metadata": {
  "colab": {
   "collapsed_sections": [],
   "name": "practice1s.ipynb",
   "provenance": []
  },
  "interpreter": {
   "hash": "56bf5eb29beb646e426251a613315e4850f160e12e56777f2c294a067bb3236b"
  },
  "kernelspec": {
   "display_name": "Python 3.8.8 ('base')",
   "language": "python",
   "name": "python3"
  },
  "language_info": {
   "codemirror_mode": {
    "name": "ipython",
    "version": 3
   },
   "file_extension": ".py",
   "mimetype": "text/x-python",
   "name": "python",
   "nbconvert_exporter": "python",
   "pygments_lexer": "ipython3",
   "version": "3.8.8"
  }
 },
 "nbformat": 4,
 "nbformat_minor": 1
}
